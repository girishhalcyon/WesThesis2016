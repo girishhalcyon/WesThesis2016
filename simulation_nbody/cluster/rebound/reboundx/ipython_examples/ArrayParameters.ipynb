{
 "cells": [
  {
   "cell_type": "markdown",
   "metadata": {},
   "source": [
    "# Adding Array Parameters\n",
    "\n",
    "We start by creating a simple simulation and adding REBOUNDx"
   ]
  },
  {
   "cell_type": "code",
   "execution_count": 1,
   "metadata": {
    "collapsed": true
   },
   "outputs": [],
   "source": [
    "import rebound\n",
    "import reboundx\n",
    "import numpy as np\n",
    "\n",
    "sim = rebound.Simulation()\n",
    "sim.add(m=1., hash=\"star\")\n",
    "sim.add(a=1., hash=\"planet\")\n",
    "ps = sim.particles\n",
    "p = ps[\"planet\"]\n",
    "rebx = reboundx.Extras(sim)"
   ]
  },
  {
   "cell_type": "markdown",
   "metadata": {},
   "source": [
    "We can add array parameters to particles and effects by simply assigning them numpy arrays:"
   ]
  },
  {
   "cell_type": "code",
   "execution_count": 2,
   "metadata": {
    "collapsed": true
   },
   "outputs": [],
   "source": [
    "doubles = np.array([1.,2.,3.])\n",
    "p.params[\"a\"] = doubles"
   ]
  },
  {
   "cell_type": "markdown",
   "metadata": {},
   "source": [
    "and we access them as usual:"
   ]
  },
  {
   "cell_type": "code",
   "execution_count": 3,
   "metadata": {
    "collapsed": false
   },
   "outputs": [
    {
     "data": {
      "text/plain": [
       "array([ 1.,  2.,  3.])"
      ]
     },
     "execution_count": 3,
     "metadata": {},
     "output_type": "execute_result"
    }
   ],
   "source": [
    "p.params[\"a\"]"
   ]
  },
  {
   "cell_type": "markdown",
   "metadata": {},
   "source": [
    "In order to maintain a consistent syntax, lists won't work:"
   ]
  },
  {
   "cell_type": "code",
   "execution_count": 4,
   "metadata": {
    "collapsed": false
   },
   "outputs": [
    {
     "name": "stdout",
     "output_type": "stream",
     "text": [
      "Can't assign lists as params. Use numpy arrays instead. See documentation.\n"
     ]
    }
   ],
   "source": [
    "try:\n",
    "    p.params[\"list\"] = [1.,2.,3.]\n",
    "except AttributeError as e:\n",
    "    print(e)"
   ]
  },
  {
   "cell_type": "markdown",
   "metadata": {},
   "source": [
    "# Note on memory\n",
    "\n",
    "REBOUNDx allocates and manages the memory for all parameters, copying the values from any python objects (like the array `doubles`). This means that any changes in `doubles` will not be reflected in the parameter:"
   ]
  },
  {
   "cell_type": "code",
   "execution_count": 5,
   "metadata": {
    "collapsed": false
   },
   "outputs": [
    {
     "data": {
      "text/plain": [
       "array([ 1.,  2.,  3.])"
      ]
     },
     "execution_count": 5,
     "metadata": {},
     "output_type": "execute_result"
    }
   ],
   "source": [
    "doubles[0] = 5.\n",
    "p.params[\"a\"]"
   ]
  },
  {
   "cell_type": "markdown",
   "metadata": {},
   "source": [
    "We can always get a reference and update that:"
   ]
  },
  {
   "cell_type": "code",
   "execution_count": 6,
   "metadata": {
    "collapsed": false
   },
   "outputs": [
    {
     "data": {
      "text/plain": [
       "array([ 5.,  2.,  3.])"
      ]
     },
     "execution_count": 6,
     "metadata": {},
     "output_type": "execute_result"
    }
   ],
   "source": [
    "doubles = p.params[\"a\"]\n",
    "doubles[0] = 5.\n",
    "p.params[\"a\"]"
   ]
  },
  {
   "cell_type": "markdown",
   "metadata": {},
   "source": [
    "# Arrays of Objects\n",
    "\n",
    "If your array holds anything other than basic python types, you need to make sure that you pass `dtype=object`. One possible pitfall of this type are REBOUNDx hashes, which are `ctypes` objects. To store the hashes, we would do:"
   ]
  },
  {
   "cell_type": "code",
   "execution_count": 7,
   "metadata": {
    "collapsed": false
   },
   "outputs": [],
   "source": [
    "p.params[\"hashes\"] = np.array([sim.particles[0].hash, sim.particles[1].hash], dtype=object)"
   ]
  },
  {
   "cell_type": "markdown",
   "metadata": {},
   "source": [
    "For example, we can check that accessing the star through the corresponding hash in this array gives us a particle with the right mass (1.):"
   ]
  },
  {
   "cell_type": "code",
   "execution_count": 8,
   "metadata": {
    "collapsed": false
   },
   "outputs": [
    {
     "name": "stdout",
     "output_type": "stream",
     "text": [
      "Particle's mass = 1.0\n"
     ]
    }
   ],
   "source": [
    "starhash = p.params[\"hashes\"][0]\n",
    "print(\"Particle's mass = {0}\".format(sim.particles[starhash].m))"
   ]
  },
  {
   "cell_type": "markdown",
   "metadata": {},
   "source": [
    "We could similarly add a parameter holding a snapshot of all the current particles' orbits. Since we just have one planet in this simulation, this is just an array of length 1:"
   ]
  },
  {
   "cell_type": "code",
   "execution_count": 9,
   "metadata": {
    "collapsed": false
   },
   "outputs": [
    {
     "name": "stdout",
     "output_type": "stream",
     "text": [
      "The planet's semimajor axis is 1.0\n"
     ]
    }
   ],
   "source": [
    "p.params[\"orbitarray\"] = np.array(sim.calculate_orbits(), dtype=object)\n",
    "print(\"The planet's semimajor axis is {0}\".format(p.params[\"orbitarray\"][0].a))"
   ]
  },
  {
   "cell_type": "markdown",
   "metadata": {},
   "source": [
    "As always, you also need to make sure the code supports that object type--REBOUNDx will raise an exception if the object type is not supported:"
   ]
  },
  {
   "cell_type": "code",
   "execution_count": 10,
   "metadata": {
    "collapsed": false
   },
   "outputs": [
    {
     "name": "stdout",
     "output_type": "stream",
     "text": [
      "REBOUNDx Error: Data type <class 'rebound.simulation.Simulation'> for param 'error' not supported.\n"
     ]
    }
   ],
   "source": [
    "try:\n",
    "    p.params[\"error\"] = np.array([sim], dtype=object)\n",
    "except AttributeError as e:\n",
    "    print(e)"
   ]
  },
  {
   "cell_type": "markdown",
   "metadata": {},
   "source": [
    "# Multidimensional arrays\n",
    "\n",
    "Multidimensional arrays also work:"
   ]
  },
  {
   "cell_type": "code",
   "execution_count": 11,
   "metadata": {
    "collapsed": false
   },
   "outputs": [
    {
     "data": {
      "text/plain": [
       "array([[[  1,   2,   3,   4],\n",
       "        [ 10,  20,  30,  40]],\n",
       "\n",
       "       [[  5,   6,   7,   8],\n",
       "        [ 50,  60,  70,  80]],\n",
       "\n",
       "       [[  9,  10,  11,  12],\n",
       "        [ 90, 100, 110, 120]]])"
      ]
     },
     "execution_count": 11,
     "metadata": {},
     "output_type": "execute_result"
    }
   ],
   "source": [
    "p.params[\"multi\"] = np.array([[[1,2,3,4],[10,20,30,40]], [[5,6,7,8],[50,60,70,80]], [[9,10,11,12], [90,100,110,120]]])\n",
    "p.params[\"multi\"]"
   ]
  },
  {
   "cell_type": "code",
   "execution_count": 12,
   "metadata": {
    "collapsed": false
   },
   "outputs": [
    {
     "data": {
      "text/plain": [
       "(3, 2, 4)"
      ]
     },
     "execution_count": 12,
     "metadata": {},
     "output_type": "execute_result"
    }
   ],
   "source": [
    "p.params[\"multi\"].shape"
   ]
  },
  {
   "cell_type": "code",
   "execution_count": null,
   "metadata": {
    "collapsed": true
   },
   "outputs": [],
   "source": []
  }
 ],
 "metadata": {
  "kernelspec": {
   "display_name": "Python 3",
   "language": "python",
   "name": "python3"
  },
  "language_info": {
   "codemirror_mode": {
    "name": "ipython",
    "version": 3
   },
   "file_extension": ".py",
   "mimetype": "text/x-python",
   "name": "python",
   "nbconvert_exporter": "python",
   "pygments_lexer": "ipython3",
   "version": "3.5.1"
  }
 },
 "nbformat": 4,
 "nbformat_minor": 0
}
