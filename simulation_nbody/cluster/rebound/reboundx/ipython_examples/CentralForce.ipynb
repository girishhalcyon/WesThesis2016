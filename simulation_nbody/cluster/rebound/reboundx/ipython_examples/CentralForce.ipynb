{
 "cells": [
  {
   "cell_type": "markdown",
   "metadata": {},
   "source": [
    "# A General Central Force\n",
    "\n",
    "This implementation adds a central acceleration of the form $\\vec{a}=Ar^\\gamma\\hat{r}$, where $\\vec{r}$ is the vector from the central particle to the body.  Let's first create a simulation with a single planet:"
   ]
  },
  {
   "cell_type": "code",
   "execution_count": 1,
   "metadata": {
    "collapsed": false
   },
   "outputs": [],
   "source": [
    "import rebound\n",
    "import reboundx\n",
    "sim = rebound.Simulation()\n",
    "sim.add(m=1.) \n",
    "sim.add(m=1.e-3, a=1., e=0.2)\n",
    "ps = sim.particles"
   ]
  },
  {
   "cell_type": "markdown",
   "metadata": {},
   "source": [
    "Now we add REBOUNDx and our effect as usual:"
   ]
  },
  {
   "cell_type": "code",
   "execution_count": 2,
   "metadata": {
    "collapsed": false
   },
   "outputs": [],
   "source": [
    "import reboundx\n",
    "rebx = reboundx.Extras(sim)\n",
    "cfparams = rebx.add(\"central_force\")"
   ]
  },
  {
   "cell_type": "markdown",
   "metadata": {},
   "source": [
    "We need to choose a normalization `Acentral` and power `gammacentral` for our force law (see above), which we assign to the central particle itself.  **`gammacentral` must be a float (add a dot after an integer power).**"
   ]
  },
  {
   "cell_type": "code",
   "execution_count": 3,
   "metadata": {
    "collapsed": false
   },
   "outputs": [],
   "source": [
    "ps[0].params[\"gammacentral\"] = -1. # period needed after integer power\n",
    "ps[0].params[\"Acentral\"] = 1.e-4"
   ]
  },
  {
   "cell_type": "markdown",
   "metadata": {},
   "source": [
    "We can also (instead) use the function `rebx.central_force_Acentral` to calculate the Acentral required for a particular particle (here `ps[1]`) around a primary (`ps[0]`) to have a pericenter precession rate of `pomegadot`, given a power `gammacentral`:"
   ]
  },
  {
   "cell_type": "code",
   "execution_count": 4,
   "metadata": {
    "collapsed": false
   },
   "outputs": [],
   "source": [
    "pomegadot = 1.e-3 # has dimensions of inverse time, in whatever units the simulation uses.\n",
    "ps[0].params[\"Acentral\"] = rebx.central_force_Acentral(ps[1], ps[0], pomegadot, ps[0].params[\"gammacentral\"])"
   ]
  },
  {
   "cell_type": "markdown",
   "metadata": {},
   "source": [
    "We can include the force's contribution to the total energy:"
   ]
  },
  {
   "cell_type": "code",
   "execution_count": 5,
   "metadata": {
    "collapsed": false
   },
   "outputs": [],
   "source": [
    "E0 = sim.calculate_energy() + rebx.central_force_hamiltonian(sim)"
   ]
  },
  {
   "cell_type": "markdown",
   "metadata": {},
   "source": [
    "Now we integrate, keep track of the pericenter and the relative energy error, then plot the results:"
   ]
  },
  {
   "cell_type": "code",
   "execution_count": 6,
   "metadata": {
    "collapsed": false
   },
   "outputs": [],
   "source": [
    "import numpy as np\n",
    "Nout=1000\n",
    "pomega, Eerr = np.zeros(Nout), np.zeros(Nout)\n",
    "times = np.linspace(0,3.e4,Nout)\n",
    "for i, time in enumerate(times):\n",
    "    sim.integrate(time)\n",
    "    pomega[i] = ps[1].pomega\n",
    "    E = sim.calculate_energy() + rebx.central_force_hamiltonian(sim)\n",
    "    Eerr[i] = abs((E-E0)/E0)"
   ]
  },
  {
   "cell_type": "code",
   "execution_count": 7,
   "metadata": {
    "collapsed": false
   },
   "outputs": [
    {
     "data": {
      "text/plain": [
       "<matplotlib.text.Text at 0x10fcd8a58>"
      ]
     },
     "execution_count": 7,
     "metadata": {},
     "output_type": "execute_result"
    },
    {
     "data": {
      "image/png": "[encoded data removed]",
      "text/plain": [
       "<matplotlib.figure.Figure at 0x10caaa4a8>"
      ]
     },
     "metadata": {},
     "output_type": "display_data"
    }
   ],
   "source": [
    "%matplotlib inline\n",
    "import matplotlib.pyplot as plt\n",
    "fig, axarr = plt.subplots(nrows=2)\n",
    "axarr[0].plot(times, pomega)\n",
    "axarr[0].set_ylabel(\"Pericenter\")\n",
    "axarr[1].plot(times, Eerr, '.')\n",
    "axarr[1].set_xscale('log')\n",
    "axarr[1].set_yscale('log')\n",
    "axarr[1].set_xlabel('Time')\n",
    "axarr[1].set_ylabel('Energy Error')"
   ]
  },
  {
   "cell_type": "code",
   "execution_count": null,
   "metadata": {
    "collapsed": true
   },
   "outputs": [],
   "source": []
  }
 ],
 "metadata": {
  "kernelspec": {
   "display_name": "Python 3",
   "language": "python",
   "name": "python3"
  },
  "language_info": {
   "codemirror_mode": {
    "name": "ipython",
    "version": 3
   },
   "file_extension": ".py",
   "mimetype": "text/x-python",
   "name": "python",
   "nbconvert_exporter": "python",
   "pygments_lexer": "ipython3",
   "version": "3.5.1"
  }
 },
 "nbformat": 4,
 "nbformat_minor": 0
}
