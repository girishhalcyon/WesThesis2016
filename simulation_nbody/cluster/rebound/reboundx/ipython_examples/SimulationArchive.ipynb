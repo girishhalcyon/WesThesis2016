{
 "cells": [
  {
   "cell_type": "markdown",
   "metadata": {},
   "source": [
    "# SimulationArchives with REBOUNDx\n",
    "\n",
    "We can reproduce `REBOUNDx` simulations with extra effects bit by bit with the `SimulationArchive` (see Rein & Tamayo 2017 for details), and make sure to read [SimulationArchive.ipynb](https://github.com/hannorein/rebound/blob/master/ipython_examples/SimulationArchive.ipynb) and [SimulationArchiveRestart.ipynb](https://github.com/hannorein/rebound/blob/master/ipython_examples/SimulationArchiveRestart.ipynb) first.\n",
    "\n",
    "However, this will only work under some conditions. In particular, for bit-by-bit reproducibility, one requires that:\n",
    "- All `REBOUNDx` effects in the simulation are machine independent (can't have, e.g., trig functions, pow or exp in implementation)\n",
    "- The effect and particle parameters cannot change throughout the simulation\n",
    "- Effects must remain on for the entire integration\n",
    "\n",
    "in addition to the base conditions for a pure REBOUND simulation (see Rein & Tamayo 2017):\n",
    "- Must use the `IAS15` or `WHFast` integrator\n",
    "- Number of particles can't change throughout the simulation\n",
    "\n",
    "To use the `SimulationArchive` with REBOUNDx, we need to save a REBOUNDx binary [SavingAndLoadingSimulations.ipynb](https://github.com/dtamayo/reboundx/blob/master/ipython_examples/SavingAndLoadingSimulations.ipynb). Since we can't change effects or particle parameters, it doesn't matter at what point we save this binary (we will just need it to load the `SimulationArchive`). Here we do a `WHFAST` integration with the symplectic `gr_potential` implementation for general relativity corrections. We set up the simulation like we usually would:"
   ]
  },
  {
   "cell_type": "code",
   "execution_count": 1,
   "metadata": {
    "collapsed": false
   },
   "outputs": [],
   "source": [
    "import rebound\n",
    "import reboundx\n",
    "from reboundx import constants\n",
    "\n",
    "sim = rebound.Simulation()\n",
    "sim.add(m=1.)\n",
    "sim.add(m=1e-3, a=1., e=0.2)\n",
    "sim.add(m=1e-3, a=1.9)\n",
    "sim.move_to_com()\n",
    "sim.dt = sim.particles[1].P*0.05  # timestep is 5% of orbital period\n",
    "sim.integrator = \"whfast\"\n",
    "rebx = reboundx.Extras(sim)\n",
    "gr = rebx.add(\"gr_potential\")\n",
    "gr.params[\"c\"] = constants.C\n",
    "rebx.save(\"rebxarchive.bin\")"
   ]
  },
  {
   "cell_type": "markdown",
   "metadata": {},
   "source": [
    "We now set up the `SimulationArchive` and integrate like we normally would ([SimulationArchive.ipynb](https://github.com/hannorein/rebound/blob/master/ipython_examples/SimulationArchive.ipynb)):"
   ]
  },
  {
   "cell_type": "code",
   "execution_count": 2,
   "metadata": {
    "collapsed": false
   },
   "outputs": [],
   "source": [
    "sim.initSimulationArchive(\"archive.bin\", interval=1e3)\n",
    "sim.integrate(1.e6)"
   ]
  },
  {
   "cell_type": "markdown",
   "metadata": {},
   "source": [
    "Once we're ready to inspect our simulation, we just have to make sure to pass the `REBOUNDx` binary when creating the SimulationArchive to make sure the right effects and particle parameters are loaded:"
   ]
  },
  {
   "cell_type": "code",
   "execution_count": 3,
   "metadata": {
    "collapsed": false
   },
   "outputs": [],
   "source": [
    "sa = rebound.SimulationArchive(\"archive.bin\", rebxfilename = \"rebxarchive.bin\")"
   ]
  },
  {
   "cell_type": "markdown",
   "metadata": {},
   "source": [
    "We now create a different simulation from a snapshot in the `SimulationArchive` halfway through:"
   ]
  },
  {
   "cell_type": "code",
   "execution_count": 4,
   "metadata": {
    "collapsed": false
   },
   "outputs": [
    {
     "data": {
      "text/plain": [
       "500000.311856871"
      ]
     },
     "execution_count": 4,
     "metadata": {},
     "output_type": "execute_result"
    }
   ],
   "source": [
    "sim2 = sa[500]\n",
    "sim2.t"
   ]
  },
  {
   "cell_type": "markdown",
   "metadata": {},
   "source": [
    "We now integrate our loaded simulation to the same time as above (1.e6):"
   ]
  },
  {
   "cell_type": "code",
   "execution_count": 5,
   "metadata": {
    "collapsed": true
   },
   "outputs": [],
   "source": [
    "sim2.integrate(1.e6)"
   ]
  },
  {
   "cell_type": "markdown",
   "metadata": {},
   "source": [
    "and see that we obtain exactly the same particle positions in the original and reloaded simulations:"
   ]
  },
  {
   "cell_type": "code",
   "execution_count": 6,
   "metadata": {
    "collapsed": false
   },
   "outputs": [
    {
     "name": "stdout",
     "output_type": "stream",
     "text": [
      "---------------------------------\n",
      "REBOUND version:     \t3.1.1\n",
      "REBOUND built on:    \tJan  4 2017 09:03:10\n",
      "Number of particles: \t3\n",
      "Selected integrator: \twhfast\n",
      "Simulation time:     \t1000000.000000\n",
      "Current timestep:    \t0.314002\n",
      "---------------------------------\n",
      "<rebound.Particle object, m=1.0 x=-0.0014987956816867735 y=-0.0014917356304337854 z=0.0 vx=0.00070391125225057 vy=-0.0011135635648115408 vz=0.0>\n",
      "<rebound.Particle object, m=0.001 x=1.105306583710834 y=-0.1700487535915524 z=0.0 vx=0.06434659981228147 vy=0.8839299450833844 vz=0.0>\n",
      "<rebound.Particle object, m=0.001 x=0.3934890986071336 y=1.6617843854899825 z=0.0 vx=-0.7682578520628421 vy=0.22963361972814875 vz=0.0>\n",
      "---------------------------------\n"
     ]
    }
   ],
   "source": [
    "sim.status()"
   ]
  },
  {
   "cell_type": "code",
   "execution_count": 7,
   "metadata": {
    "collapsed": false
   },
   "outputs": [
    {
     "name": "stdout",
     "output_type": "stream",
     "text": [
      "---------------------------------\n",
      "REBOUND version:     \t3.1.1\n",
      "REBOUND built on:    \tJan  4 2017 09:03:10\n",
      "Number of particles: \t3\n",
      "Selected integrator: \twhfast\n",
      "Simulation time:     \t1000000.000000\n",
      "Current timestep:    \t0.314002\n",
      "---------------------------------\n",
      "<rebound.Particle object, m=1.0 x=-0.0014987956816867735 y=-0.0014917356304337854 z=0.0 vx=0.00070391125225057 vy=-0.0011135635648115408 vz=0.0>\n",
      "<rebound.Particle object, m=0.001 x=1.105306583710834 y=-0.1700487535915524 z=0.0 vx=0.06434659981228147 vy=0.8839299450833844 vz=0.0>\n",
      "<rebound.Particle object, m=0.001 x=0.3934890986071336 y=1.6617843854899825 z=0.0 vx=-0.7682578520628421 vy=0.22963361972814875 vz=0.0>\n",
      "---------------------------------\n"
     ]
    }
   ],
   "source": [
    "sim2.status()"
   ]
  },
  {
   "cell_type": "code",
   "execution_count": null,
   "metadata": {
    "collapsed": true
   },
   "outputs": [],
   "source": []
  }
 ],
 "metadata": {
  "kernelspec": {
   "display_name": "Python 3",
   "language": "python",
   "name": "python3"
  },
  "language_info": {
   "codemirror_mode": {
    "name": "ipython",
    "version": 3
   },
   "file_extension": ".py",
   "mimetype": "text/x-python",
   "name": "python",
   "nbconvert_exporter": "python",
   "pygments_lexer": "ipython3",
   "version": "3.5.1"
  }
 },
 "nbformat": 4,
 "nbformat_minor": 0
}
